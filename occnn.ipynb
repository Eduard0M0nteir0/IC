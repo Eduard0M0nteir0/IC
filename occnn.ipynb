{
 "cells": [
  {
   "cell_type": "code",
   "execution_count": null,
   "metadata": {},
   "outputs": [],
   "source": [
    "import torch\n",
    "from torch.utils.data import DataLoader, Dataset\n",
    "import torch.nn as nn\n",
    "import torch.optim as optim\n",
    "import torch.nn.functional as F\n",
    "from torch.nn.modules.loss import _Loss\n",
    "from torchvision import transforms\n",
    "\n",
    "from PIL import Image\n",
    "\n",
    "#import matplotlib.pyplot as plt\n",
    "#import matplotlib.image as mpimg\n",
    "\n",
    "from sklearn.model_selection import train_test_split\n",
    "from sklearn import metrics\n",
    "\n",
    "import numpy as np\n",
    "import pandas as pd"
   ]
  },
  {
   "cell_type": "code",
   "execution_count": 2,
   "metadata": {},
   "outputs": [],
   "source": [
    "table = \"tabelaAlunosPPI.xls\"\n",
    "df = pd.read_excel(table)\n",
    "\n",
    "# Lista de tuplas que contem o caminho da imagem e a classe\n",
    "xy = []\n",
    "\n",
    "for index, row in df.iterrows():\n",
    "    if row['anoIngresso'] == 2023 and row['parecerFinal'] != 'Ignorar (ex-aluno)':\n",
    "        # Se aluno pertencer a classe PPI, adiciona a lista\n",
    "        if row['parecerFinal'] == 'Consistente':\n",
    "            aux = (row['foto'], 1)\n",
    "            xy.append(aux)\n",
    "        # Se o aluno for branco, ignora\n",
    "        else:\n",
    "            continue"
   ]
  },
  {
   "cell_type": "code",
   "execution_count": 3,
   "metadata": {},
   "outputs": [
    {
     "name": "stdout",
     "output_type": "stream",
     "text": [
      "('231220171.jpg', 1)\n"
     ]
    }
   ],
   "source": [
    "print(xy[0])"
   ]
  },
  {
   "cell_type": "code",
   "execution_count": 4,
   "metadata": {},
   "outputs": [],
   "source": [
    "class CustomDataset(Dataset):\n",
    "    def __init__(self, xy, transform=None):\n",
    "        self.xy = xy\n",
    "        self.transform = transform\n",
    "    \n",
    "    def __getitem__(self, index):\n",
    "        name = self.xy[index][0]\n",
    "        label = self.xy[index][1]\n",
    "        image = Image.open(\"C:\\\\Users\\\\DELL\\\\Desktop\\\\IC\\\\2023_PPI\\\\\" + name)\n",
    "        image = image.convert('RGB')\n",
    "        if self.transform:\n",
    "            image = self.transform(image)\n",
    "        return image, label\n",
    "    \n",
    "    def __len__(self):\n",
    "        return len(self.xy)"
   ]
  },
  {
   "cell_type": "code",
   "execution_count": null,
   "metadata": {},
   "outputs": [],
   "source": [
    "#imagem = mpimg.imread(\"C:\\\\Users\\\\DELL\\\\Desktop\\\\IC\\\\2023_PPI\\\\231025327.jpg\")\n",
    "#plt.imshow(imagem)\n",
    "#plt.axis('off')\n",
    "#plt.show()"
   ]
  },
  {
   "cell_type": "code",
   "execution_count": 5,
   "metadata": {},
   "outputs": [],
   "source": [
    "transform = transforms.Compose([\n",
    "    transforms.Resize((32, 32)),\n",
    "    transforms.ToTensor()\n",
    "])"
   ]
  },
  {
   "cell_type": "code",
   "execution_count": 6,
   "metadata": {},
   "outputs": [],
   "source": [
    "train_data, val_data = train_test_split(xy, test_size=0.1, random_state=40)\n",
    "#train_data, test_data = train_test_split(xy, test_size=0.2, random_state=40)\n",
    "#train_data, val_data = train_test_split(train_data, test_size=0.2, random_state=40)\n",
    "\n",
    "custom_train = CustomDataset(train_data, transform)\n",
    "#custom_test = CustomDataset(test_data, transform)\n",
    "custom_val = CustomDataset(val_data, transform)\n",
    "\n",
    "batch_size = 16\n",
    "train_loader = DataLoader(custom_train, batch_size=batch_size, shuffle=True)\n",
    "#test_loader = DataLoader(custom_test, batch_size=batch_size, shuffle=True, drop_last=True)\n",
    "val_loader = DataLoader(custom_val, batch_size=batch_size, shuffle=True, drop_last=True)"
   ]
  },
  {
   "cell_type": "code",
   "execution_count": 7,
   "metadata": {},
   "outputs": [],
   "source": [
    "class CNN(nn.Module):\n",
    "    def __init__(self):\n",
    "        super(CNN, self).__init__()\n",
    "\n",
    "        self.conv1 = nn.Conv2d(3, 32, kernel_size=5, padding=2)\n",
    "        self.leaky_relu = nn.LeakyReLU(inplace=True)\n",
    "        self.maxpool1 = nn.MaxPool2d(kernel_size=2, stride=2)\n",
    "\n",
    "        self.conv2 = nn.Conv2d(32, 64, kernel_size=5, padding=2)\n",
    "        self.maxpool2 = nn.MaxPool2d(kernel_size=2, stride=2)\n",
    "\n",
    "        self.conv3 = nn.Conv2d(64, 128, kernel_size=5, padding=2)\n",
    "        self.maxpool3 = nn.MaxPool2d(kernel_size=2, stride=2)\n",
    "\n",
    "        self.fc = nn.Linear(128 * 4 * 4, 128)\n",
    "        self.fc2 = nn.Linear(128, 1)\n",
    "\n",
    "    def forward(self, x):\n",
    "        x = self.conv1(x)\n",
    "        x = self.leaky_relu(x)\n",
    "        x = self.maxpool1(x)\n",
    "\n",
    "        x = self.conv2(x)\n",
    "        x = self.leaky_relu(x)\n",
    "        x = self.maxpool2(x)\n",
    "\n",
    "        x = self.conv3(x)\n",
    "        x = self.leaky_relu(x)\n",
    "        x = self.maxpool3(x)\n",
    "\n",
    "        x = x.view(-1, 128 * 4 * 4)\n",
    "\n",
    "        x = self.fc(x)\n",
    "        x = self.leaky_relu(x)\n",
    "\n",
    "        x = self.fc2(x)\n",
    "        x = torch.sigmoid(x)\n",
    "\n",
    "        return x"
   ]
  },
  {
   "cell_type": "code",
   "execution_count": 8,
   "metadata": {},
   "outputs": [],
   "source": [
    "def quantile_loss(preds, target, quantile):\n",
    "    assert 0 < quantile < 1, \"Quantile should be in (0, 1) range\"\n",
    "    errors = target - preds\n",
    "    loss = torch.max((quantile - 1) * errors, quantile * errors)\n",
    "    return torch.abs(loss).mean()"
   ]
  },
  {
   "cell_type": "code",
   "execution_count": 9,
   "metadata": {},
   "outputs": [
    {
     "name": "stdout",
     "output_type": "stream",
     "text": [
      "tensor(0.5114, grad_fn=<MeanBackward0>)\n",
      "tensor(0.4071, grad_fn=<MeanBackward0>)\n",
      "tensor(0.1519, grad_fn=<MeanBackward0>)\n",
      "tensor(0.0023, grad_fn=<MeanBackward0>)\n",
      "tensor(4.9420e-06, grad_fn=<MeanBackward0>)\n",
      "tensor(0., grad_fn=<MeanBackward0>)\n",
      "tensor(0., grad_fn=<MeanBackward0>)\n",
      "tensor(0., grad_fn=<MeanBackward0>)\n",
      "tensor(0., grad_fn=<MeanBackward0>)\n",
      "tensor(0., grad_fn=<MeanBackward0>)\n",
      "tensor(0., grad_fn=<MeanBackward0>)\n",
      "tensor(0., grad_fn=<MeanBackward0>)\n",
      "tensor(0., grad_fn=<MeanBackward0>)\n",
      "tensor(0., grad_fn=<MeanBackward0>)\n",
      "tensor(0., grad_fn=<MeanBackward0>)\n",
      "tensor(0., grad_fn=<MeanBackward0>)\n",
      "tensor(0., grad_fn=<MeanBackward0>)\n",
      "tensor(0., grad_fn=<MeanBackward0>)\n",
      "tensor(0., grad_fn=<MeanBackward0>)\n",
      "tensor(0., grad_fn=<MeanBackward0>)\n",
      "tensor(0., grad_fn=<MeanBackward0>)\n",
      "tensor(0., grad_fn=<MeanBackward0>)\n",
      "tensor(0., grad_fn=<MeanBackward0>)\n",
      "tensor(0., grad_fn=<MeanBackward0>)\n",
      "tensor(0., grad_fn=<MeanBackward0>)\n",
      "tensor(0., grad_fn=<MeanBackward0>)\n",
      "tensor(0., grad_fn=<MeanBackward0>)\n",
      "tensor(0., grad_fn=<MeanBackward0>)\n",
      "tensor(0., grad_fn=<MeanBackward0>)\n",
      "tensor(0., grad_fn=<MeanBackward0>)\n",
      "tensor(0., grad_fn=<MeanBackward0>)\n",
      "tensor(0., grad_fn=<MeanBackward0>)\n",
      "tensor(0., grad_fn=<MeanBackward0>)\n",
      "tensor(0., grad_fn=<MeanBackward0>)\n",
      "tensor(0., grad_fn=<MeanBackward0>)\n",
      "tensor(0., grad_fn=<MeanBackward0>)\n",
      "tensor(0., grad_fn=<MeanBackward0>)\n",
      "tensor(0., grad_fn=<MeanBackward0>)\n",
      "tensor(0., grad_fn=<MeanBackward0>)\n",
      "tensor(0., grad_fn=<MeanBackward0>)\n",
      "tensor(0., grad_fn=<MeanBackward0>)\n",
      "tensor(0., grad_fn=<MeanBackward0>)\n",
      "tensor(0., grad_fn=<MeanBackward0>)\n",
      "tensor(0., grad_fn=<MeanBackward0>)\n",
      "tensor(0., grad_fn=<MeanBackward0>)\n",
      "tensor(0., grad_fn=<MeanBackward0>)\n",
      "tensor(0., grad_fn=<MeanBackward0>)\n",
      "tensor(0., grad_fn=<MeanBackward0>)\n",
      "tensor(0., grad_fn=<MeanBackward0>)\n",
      "tensor(0., grad_fn=<MeanBackward0>)\n",
      "tensor(0., grad_fn=<MeanBackward0>)\n",
      "tensor(0., grad_fn=<MeanBackward0>)\n",
      "tensor(0., grad_fn=<MeanBackward0>)\n",
      "tensor(0., grad_fn=<MeanBackward0>)\n",
      "tensor(0., grad_fn=<MeanBackward0>)\n",
      "tensor(0., grad_fn=<MeanBackward0>)\n",
      "tensor(0., grad_fn=<MeanBackward0>)\n",
      "tensor(0., grad_fn=<MeanBackward0>)\n",
      "tensor(0., grad_fn=<MeanBackward0>)\n",
      "tensor(0., grad_fn=<MeanBackward0>)\n",
      "tensor(0., grad_fn=<MeanBackward0>)\n",
      "Val Accuracy: 1.0\n"
     ]
    }
   ],
   "source": [
    "model = CNN()\n",
    "optimizer = optim.Adam(model.parameters(), lr=0.001)\n",
    "#criterion = nn.BCELoss()\n",
    "n_epochs = 1\n",
    "\n",
    "model.train()\n",
    "for epoch in range(n_epochs):\n",
    "    for inputs, targets in train_loader:\n",
    "        output = model(inputs)\n",
    "        loss = quantile_loss(output.squeeze(), targets.float(), quantile=0.99)\n",
    "        #loss = criterion(output.squeeze(), targets.float())\n",
    "        optimizer.zero_grad()\n",
    "        loss.backward()\n",
    "        optimizer.step()\n",
    "        print(loss)\n",
    "\n",
    "    with torch.no_grad():\n",
    "        model.eval()\n",
    "        pred = []\n",
    "        true = []\n",
    "        for inputs, targets in val_loader:\n",
    "            output = model(inputs)\n",
    "            output = torch.round(output).int()\n",
    "            pred.append(output.flatten())\n",
    "            true.append(targets)\n",
    "\n",
    "        pred = np.array(pred)\n",
    "        pred = pred.flatten()\n",
    "        true = np.array(true)\n",
    "        true = true.flatten()\n",
    "            \n",
    "        acc = metrics.accuracy_score(y_true=true, y_pred=pred)\n",
    "\n",
    "        print(f'Val Accuracy: {acc}')"
   ]
  },
  {
   "cell_type": "code",
   "execution_count": null,
   "metadata": {},
   "outputs": [],
   "source": [
    "# with torch.no_grad():\n",
    "#     correct = 0\n",
    "#     pred = []\n",
    "#     true = []\n",
    "#     model.eval()\n",
    "#     for inputs, targets in test_loader:\n",
    "#         output = model(inputs)\n",
    "#         output = torch.round(output).int()\n",
    "#         pred.append(output.flatten())\n",
    "#         true.append(targets)\n",
    "\n",
    "#     pred = np.array(pred)\n",
    "#     pred = pred.flatten()\n",
    "#     true = np.array(true)\n",
    "#     true = true.flatten()\n",
    "    \n",
    "# acc = metrics.accuracy_score(true, pred)\n",
    "\n",
    "# print(f'Test Accuracy: {acc}')"
   ]
  },
  {
   "cell_type": "code",
   "execution_count": 10,
   "metadata": {},
   "outputs": [
    {
     "name": "stdout",
     "output_type": "stream",
     "text": [
      "torch.Size([1, 3, 32, 32])\n",
      "1\n",
      "Test Accuracy: 0.0\n"
     ]
    }
   ],
   "source": [
    "image = Image.open(\"C:\\\\Users\\\\DELL\\\\Desktop\\\\IC\\\\2023_brancos\\\\231025327.jpg\" )\n",
    "image = image.convert('RGB')\n",
    "image = transform(image)\n",
    "image = torch.reshape(image, (1, image.shape[0], image.shape[1], image.shape[2]))\n",
    "\n",
    "print(image.shape)\n",
    "branco = 0\n",
    "with torch.no_grad():\n",
    "    model.eval()\n",
    "    pred = []\n",
    "    true = []\n",
    "    output = model(image)\n",
    "    output = int(torch.round(output))\n",
    "    print(output)\n",
    "    # if float(output.item()) > 0.5:\n",
    "    #     output.item() = 1\n",
    "    # else:\n",
    "    #     output.item() = 0\n",
    "    \n",
    "    true.append(branco)\n",
    "    pred.append(output)\n",
    "    acc = metrics.accuracy_score(true, pred)\n",
    "    print(f'Test Accuracy: {acc}')"
   ]
  }
 ],
 "metadata": {
  "kernelspec": {
   "display_name": "IC",
   "language": "python",
   "name": "python3"
  },
  "language_info": {
   "codemirror_mode": {
    "name": "ipython",
    "version": 3
   },
   "file_extension": ".py",
   "mimetype": "text/x-python",
   "name": "python",
   "nbconvert_exporter": "python",
   "pygments_lexer": "ipython3",
   "version": "3.11.7"
  }
 },
 "nbformat": 4,
 "nbformat_minor": 2
}
